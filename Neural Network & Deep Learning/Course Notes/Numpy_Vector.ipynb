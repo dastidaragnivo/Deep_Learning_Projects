{
 "cells": [
  {
   "cell_type": "code",
   "execution_count": 3,
   "id": "ff4fb6fc-a16c-4db3-8b68-fcf2abdec1a6",
   "metadata": {},
   "outputs": [
    {
     "name": "stdout",
     "output_type": "stream",
     "text": [
      "[-0.27608612 -0.8423067   2.69672163 -1.56940722  1.09567802]\n",
      "(5,)\n"
     ]
    }
   ],
   "source": [
    "import numpy as np\n",
    "\n",
    "a = np.random.randn(5)\n",
    "print(a)\n",
    "print(a.shape)\n",
    "\n",
    "#a is a \"rank 1 array\" here"
   ]
  },
  {
   "cell_type": "code",
   "execution_count": 4,
   "id": "c94b46e8-f516-404c-aa65-beae095b0c5f",
   "metadata": {},
   "outputs": [
    {
     "name": "stdout",
     "output_type": "stream",
     "text": [
      "[[-0.27608612]\n",
      " [-0.8423067 ]\n",
      " [ 2.69672163]\n",
      " [-1.56940722]\n",
      " [ 1.09567802]]\n",
      "(5, 1)\n"
     ]
    }
   ],
   "source": [
    "a = a.reshape((5,1))\n",
    "print(a)\n",
    "print(a.shape)\n",
    "\n",
    "#a converted to (5 x 1) column vector"
   ]
  }
 ],
 "metadata": {
  "kernelspec": {
   "display_name": "Python 3 (ipykernel)",
   "language": "python",
   "name": "python3"
  },
  "language_info": {
   "codemirror_mode": {
    "name": "ipython",
    "version": 3
   },
   "file_extension": ".py",
   "mimetype": "text/x-python",
   "name": "python",
   "nbconvert_exporter": "python",
   "pygments_lexer": "ipython3",
   "version": "3.11.4"
  }
 },
 "nbformat": 4,
 "nbformat_minor": 5
}
