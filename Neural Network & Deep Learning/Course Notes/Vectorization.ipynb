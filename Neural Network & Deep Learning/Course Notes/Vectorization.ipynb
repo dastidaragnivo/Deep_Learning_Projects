{
 "cells": [
  {
   "cell_type": "markdown",
   "id": "74735908-df82-4e1e-9630-fbc50a7e69c7",
   "metadata": {},
   "source": [
    "***Vectorization Demo***"
   ]
  },
  {
   "cell_type": "code",
   "execution_count": 1,
   "id": "bb4c8d4f-8576-476c-a23d-a96abdd915ef",
   "metadata": {},
   "outputs": [
    {
     "name": "stdout",
     "output_type": "stream",
     "text": [
      "[1 2 3 4]\n"
     ]
    }
   ],
   "source": [
    "import numpy as np\n",
    "\n",
    "a = np.array([1,2,3,4])\n",
    "print(a)"
   ]
  },
  {
   "cell_type": "code",
   "execution_count": 3,
   "id": "1c38d91a-d4b5-4238-a3d8-ec827d75c0db",
   "metadata": {},
   "outputs": [
    {
     "name": "stdout",
     "output_type": "stream",
     "text": [
      "Output of Vectorized Version: 249783.1052702899\n",
      "Time Taken for Vectorized Version:2.054929733276367ms\n",
      "Output of Non-Vectorized Version: 249783.10527030044\n",
      "Time Taken for Non-Vectorized Version:648.047685623169ms\n"
     ]
    }
   ],
   "source": [
    "import time\n",
    "\n",
    "w = np.random.rand(1000000)\n",
    "x = np.random.rand(1000000)\n",
    "\n",
    "tic = time.time()\n",
    "z = np.dot(w,x)\n",
    "toc = time.time()\n",
    "\n",
    "print(\"Output of Vectorized Version:\",z)\n",
    "print(\"Time Taken for Vectorized Version:\" + str(1000*(toc-tic))+\"ms\")\n",
    "\n",
    "z=0\n",
    "tic = time.time()\n",
    "for i in range(1000000):\n",
    "    z += w[i]*x[i]\n",
    "    toc = time.time()\n",
    "\n",
    "print(\"Output of Non-Vectorized Version:\",z)\n",
    "print(\"Time Taken for Non-Vectorized Version:\" + str(1000*(toc-tic))+\"ms\")"
   ]
  },
  {
   "cell_type": "raw",
   "id": "726d4018-a3d8-4c0f-ab6e-a078059c8563",
   "metadata": {},
   "source": [
    "Note: Vectorized version computation is faster"
   ]
  },
  {
   "cell_type": "code",
   "execution_count": null,
   "id": "0e7662e2-8a3c-4f56-a6f9-acf59d1a2eea",
   "metadata": {},
   "outputs": [],
   "source": []
  }
 ],
 "metadata": {
  "kernelspec": {
   "display_name": "Python 3 (ipykernel)",
   "language": "python",
   "name": "python3"
  },
  "language_info": {
   "codemirror_mode": {
    "name": "ipython",
    "version": 3
   },
   "file_extension": ".py",
   "mimetype": "text/x-python",
   "name": "python",
   "nbconvert_exporter": "python",
   "pygments_lexer": "ipython3",
   "version": "3.11.4"
  }
 },
 "nbformat": 4,
 "nbformat_minor": 5
}
