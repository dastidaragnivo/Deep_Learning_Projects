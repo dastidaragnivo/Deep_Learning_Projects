{
 "cells": [
  {
   "cell_type": "markdown",
   "id": "86fd3d6e-57fd-481b-8881-9d3ee7507dec",
   "metadata": {},
   "source": [
    "***Broadcasting Example***"
   ]
  },
  {
   "cell_type": "code",
   "execution_count": 1,
   "id": "d2932a7c-c863-4e82-80d8-84de23897a17",
   "metadata": {},
   "outputs": [],
   "source": [
    "import numpy as np"
   ]
  },
  {
   "cell_type": "code",
   "execution_count": 2,
   "id": "af30a301-8c56-4867-93e1-bd61d3640a7e",
   "metadata": {},
   "outputs": [
    {
     "name": "stdout",
     "output_type": "stream",
     "text": [
      "[[ 56.    0.    4.4  68. ]\n",
      " [  1.2 104.   52.    8. ]\n",
      " [  1.8 135.   99.    0.9]]\n"
     ]
    }
   ],
   "source": [
    "A = np.array([[56.0,0.0,4.4,68.0],\n",
    "              [1.2,104.0,52.0,8.0],\n",
    "              [1.8,135.0,99.0,0.9]])\n",
    "print(A)"
   ]
  },
  {
   "cell_type": "code",
   "execution_count": 3,
   "id": "4d6494a0-c72b-45f1-9ff0-ea9061bf4af1",
   "metadata": {},
   "outputs": [
    {
     "name": "stdout",
     "output_type": "stream",
     "text": [
      "[ 59.  239.  155.4  76.9]\n"
     ]
    }
   ],
   "source": [
    "#Vertical Sum\n",
    "cal = A.sum(axis=0)\n",
    "print(cal)"
   ]
  },
  {
   "cell_type": "code",
   "execution_count": 4,
   "id": "3ffef475-e894-4b71-a778-26783b62170d",
   "metadata": {},
   "outputs": [
    {
     "name": "stdout",
     "output_type": "stream",
     "text": [
      "[[94.91525424  0.          2.83140283 88.42652796]\n",
      " [ 2.03389831 43.51464435 33.46203346 10.40312094]\n",
      " [ 3.05084746 56.48535565 63.70656371  1.17035111]]\n"
     ]
    }
   ],
   "source": [
    "#Matrix(A) Element-wise Percentage Calculation w.r.t cal\n",
    "\n",
    "percentage = 100 * (A/cal)\n",
    "print(percentage)\n"
   ]
  },
  {
   "cell_type": "raw",
   "id": "7e1c5b5a-8cd5-4861-803d-adc675b5efb9",
   "metadata": {},
   "source": [
    "Note: (1 x 4) matrix 'cal' implicitly broadcasted to (3 x 4) matrix in order to perform element-wise division of A w.r.t cal "
   ]
  }
 ],
 "metadata": {
  "kernelspec": {
   "display_name": "Python 3 (ipykernel)",
   "language": "python",
   "name": "python3"
  },
  "language_info": {
   "codemirror_mode": {
    "name": "ipython",
    "version": 3
   },
   "file_extension": ".py",
   "mimetype": "text/x-python",
   "name": "python",
   "nbconvert_exporter": "python",
   "pygments_lexer": "ipython3",
   "version": "3.11.4"
  }
 },
 "nbformat": 4,
 "nbformat_minor": 5
}
