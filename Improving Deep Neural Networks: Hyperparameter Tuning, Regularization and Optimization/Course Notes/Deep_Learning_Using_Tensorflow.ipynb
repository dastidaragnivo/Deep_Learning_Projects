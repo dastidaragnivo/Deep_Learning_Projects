{
 "cells": [
  {
   "cell_type": "code",
   "execution_count": 3,
   "id": "bd182a17-2cbc-4e0a-ae51-4f15737332a1",
   "metadata": {},
   "outputs": [],
   "source": [
    "import numpy as np\n",
    "import tensorflow as tf\n",
    "import warnings\n",
    "warnings.filterwarnings('ignore')"
   ]
  },
  {
   "cell_type": "code",
   "execution_count": 4,
   "id": "8a655a67-5884-4ff5-adc0-f58cb490f6a8",
   "metadata": {},
   "outputs": [],
   "source": [
    "#Initialize parameter 'w'\n",
    "\n",
    "w = tf.Variable(0, dtype=tf.float32)"
   ]
  },
  {
   "cell_type": "code",
   "execution_count": 6,
   "id": "db5080d3-273d-4dee-b770-6a62eb5b9321",
   "metadata": {},
   "outputs": [],
   "source": [
    "#Use Adam Optimization Algorithm\n",
    "#Initialize learning rate as 0.1\n",
    "\n",
    "optimizer = tf.keras.optimizers.Adam(learning_rate=0.1)"
   ]
  },
  {
   "cell_type": "code",
   "execution_count": 7,
   "id": "e3407a51-9522-4f5f-8f68-ff92bc0da1e8",
   "metadata": {},
   "outputs": [
    {
     "name": "stdout",
     "output_type": "stream",
     "text": [
      "<tf.Variable 'Variable:0' shape=() dtype=float32, numpy=0.0>\n"
     ]
    }
   ],
   "source": [
    "#Cost Function(as per problem statement)\n",
    "#You only have implement forward propagation\n",
    "#Back propagation/Gradient Descent can be automatically handled by tensorflow, using tf.GradientTape() to compute the cost function\n",
    "\n",
    "def train_step():\n",
    "    with tf.GradientTape() as tape:\n",
    "        cost = w**2 - 10*w + 25\n",
    "    trainable_variables = [w]\n",
    "    grads = tape.gradient(cost, trainable_variables)\n",
    "    optimizer.apply_gradients(zip(grads, trainable_variables))\n",
    "\n",
    "print(w)"
   ]
  },
  {
   "cell_type": "code",
   "execution_count": 8,
   "id": "157bf6a0-0ec4-4a2c-84fe-7544599e80fd",
   "metadata": {},
   "outputs": [
    {
     "name": "stdout",
     "output_type": "stream",
     "text": [
      "<tf.Variable 'Variable:0' shape=() dtype=float32, numpy=0.09999931>\n"
     ]
    }
   ],
   "source": [
    "#Check new value of 'w' after 1 step of learning algorithm(1 forward prop + 1 backward prop)\n",
    "\n",
    "train_step()\n",
    "print(w)"
   ]
  },
  {
   "cell_type": "code",
   "execution_count": 9,
   "id": "bfae4887-b623-4ed1-b44f-e5bc7cfc4da3",
   "metadata": {},
   "outputs": [
    {
     "name": "stdout",
     "output_type": "stream",
     "text": [
      "<tf.Variable 'Variable:0' shape=() dtype=float32, numpy=5.000001>\n"
     ]
    }
   ],
   "source": [
    "#Run 1000 iterations of training step\n",
    "\n",
    "for i in range(1000):\n",
    "    train_step()\n",
    "print(w)"
   ]
  },
  {
   "cell_type": "markdown",
   "id": "845d4169-cbc7-4b41-8ccc-73849799f5ca",
   "metadata": {},
   "source": [
    "**Note:** The value of 'w' is nearly 5, which is the minimum of the cost function given above"
   ]
  },
  {
   "cell_type": "code",
   "execution_count": 12,
   "id": "182e201a-334a-4948-a7ec-34a8782d3512",
   "metadata": {},
   "outputs": [
    {
     "name": "stdout",
     "output_type": "stream",
     "text": [
      "<tf.Variable 'Variable:0' shape=() dtype=float32, numpy=5.000001>\n"
     ]
    }
   ],
   "source": [
    "#Let's implement the learning algorithm again now with training feature(x)\n",
    "#x works here like data which controls co-efficients of the quadratic cost function\n",
    "\n",
    "w = tf.Variable(0, dtype=tf.float32)\n",
    "x = np.array([1.0, -10.0, 25.0], dtype=np.float32) \n",
    "optimizer = tf.keras.optimizers.Adam(learning_rate=0.1)\n",
    "\n",
    "def training(x, w, optimizer):\n",
    "    def cost_fn():\n",
    "        cost = x[0] * w**2 + x[1] * w + x[2]\n",
    "        return cost\n",
    "    for i in range(1000):\n",
    "        optimizer.minimize(cost_fn, [w])\n",
    "    return w\n",
    "\n",
    "w = training(x, w, optimizer)\n",
    "print(w)"
   ]
  },
  {
   "cell_type": "code",
   "execution_count": null,
   "id": "557baf40-5903-46b8-99aa-03c0782aa75f",
   "metadata": {},
   "outputs": [],
   "source": []
  }
 ],
 "metadata": {
  "kernelspec": {
   "display_name": "Python 3 (ipykernel)",
   "language": "python",
   "name": "python3"
  },
  "language_info": {
   "codemirror_mode": {
    "name": "ipython",
    "version": 3
   },
   "file_extension": ".py",
   "mimetype": "text/x-python",
   "name": "python",
   "nbconvert_exporter": "python",
   "pygments_lexer": "ipython3",
   "version": "3.11.4"
  }
 },
 "nbformat": 4,
 "nbformat_minor": 5
}
